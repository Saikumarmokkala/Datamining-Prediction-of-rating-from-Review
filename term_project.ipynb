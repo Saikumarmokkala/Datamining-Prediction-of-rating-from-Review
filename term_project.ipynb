{
 "cells": [
  {
   "cell_type": "markdown",
   "metadata": {
    "colab_type": "text",
    "id": "FjB2DZRNM49-"
   },
   "source": [
    "# Introduction\n"
   ]
  },
  {
   "cell_type": "markdown",
   "metadata": {
    "colab_type": "text",
    "id": "fL5ftyesM_B1"
   },
   "source": [
    "Hello! Welcome on to a journey where we will predict rating for a given review(Board games- review). In this journey we will see how to handle a dataset, clean the data, understand the data, divide the data into sets, work on classifers, train it, build it and deploy it on Amazon AWS from where we will get a endpoint which we can call later while creating our cool predictor Application.\n",
    "\n",
    "\n"
   ]
  },
  {
   "cell_type": "code",
   "execution_count": 0,
   "metadata": {
    "colab": {},
    "colab_type": "code",
    "id": "tnkRoqhfrPr7"
   },
   "outputs": [],
   "source": [
    "#Here are some of the imports which we will used in the whole process.\n",
    "import numpy as np\n",
    "import pandas as pd\n",
    "import re\n",
    "from sklearn.pipeline import Pipeline, make_pipeline\n",
    "from sklearn.feature_extraction.text import TfidfVectorizer\n",
    "from sklearn.base import BaseEstimator, ClassifierMixin\n",
    "from sklearn.linear_model import LogisticRegression\n",
    "from sklearn.model_selection import cross_val_score\n",
    "from sklearn.naive_bayes import MultinomialNB\n",
    "from sklearn.feature_extraction.text import CountVectorizer\n",
    "from sklearn.metrics import accuracy_score\n"
   ]
  },
  {
   "cell_type": "code",
   "execution_count": 0,
   "metadata": {
    "colab": {
     "base_uri": "https://localhost:8080/",
     "height": 306
    },
    "colab_type": "code",
    "id": "7LDIcK5d0EB9",
    "outputId": "8ea2b2ba-a1ed-4109-fde9-46cbacf4ad3b"
   },
   "outputs": [
    {
     "name": "stdout",
     "output_type": "stream",
     "text": [
      "Requirement already satisfied: gensim in /usr/local/lib/python3.6/dist-packages (3.6.0)\n",
      "Requirement already satisfied: six>=1.5.0 in /usr/local/lib/python3.6/dist-packages (from gensim) (1.12.0)\n",
      "Requirement already satisfied: scipy>=0.18.1 in /usr/local/lib/python3.6/dist-packages (from gensim) (1.4.1)\n",
      "Requirement already satisfied: smart-open>=1.2.1 in /usr/local/lib/python3.6/dist-packages (from gensim) (2.0.0)\n",
      "Requirement already satisfied: numpy>=1.11.3 in /usr/local/lib/python3.6/dist-packages (from gensim) (1.18.4)\n",
      "Requirement already satisfied: requests in /usr/local/lib/python3.6/dist-packages (from smart-open>=1.2.1->gensim) (2.23.0)\n",
      "Requirement already satisfied: boto in /usr/local/lib/python3.6/dist-packages (from smart-open>=1.2.1->gensim) (2.49.0)\n",
      "Requirement already satisfied: boto3 in /usr/local/lib/python3.6/dist-packages (from smart-open>=1.2.1->gensim) (1.13.4)\n",
      "Requirement already satisfied: certifi>=2017.4.17 in /usr/local/lib/python3.6/dist-packages (from requests->smart-open>=1.2.1->gensim) (2020.4.5.1)\n",
      "Requirement already satisfied: idna<3,>=2.5 in /usr/local/lib/python3.6/dist-packages (from requests->smart-open>=1.2.1->gensim) (2.9)\n",
      "Requirement already satisfied: chardet<4,>=3.0.2 in /usr/local/lib/python3.6/dist-packages (from requests->smart-open>=1.2.1->gensim) (3.0.4)\n",
      "Requirement already satisfied: urllib3!=1.25.0,!=1.25.1,<1.26,>=1.21.1 in /usr/local/lib/python3.6/dist-packages (from requests->smart-open>=1.2.1->gensim) (1.24.3)\n",
      "Requirement already satisfied: s3transfer<0.4.0,>=0.3.0 in /usr/local/lib/python3.6/dist-packages (from boto3->smart-open>=1.2.1->gensim) (0.3.3)\n",
      "Requirement already satisfied: botocore<1.17.0,>=1.16.4 in /usr/local/lib/python3.6/dist-packages (from boto3->smart-open>=1.2.1->gensim) (1.16.4)\n",
      "Requirement already satisfied: jmespath<1.0.0,>=0.7.1 in /usr/local/lib/python3.6/dist-packages (from boto3->smart-open>=1.2.1->gensim) (0.9.5)\n",
      "Requirement already satisfied: docutils<0.16,>=0.10 in /usr/local/lib/python3.6/dist-packages (from botocore<1.17.0,>=1.16.4->boto3->smart-open>=1.2.1->gensim) (0.15.2)\n",
      "Requirement already satisfied: python-dateutil<3.0.0,>=2.1 in /usr/local/lib/python3.6/dist-packages (from botocore<1.17.0,>=1.16.4->boto3->smart-open>=1.2.1->gensim) (2.8.1)\n"
     ]
    }
   ],
   "source": [
    "pip install gensim"
   ]
  },
  {
   "cell_type": "markdown",
   "metadata": {
    "colab_type": "text",
    "id": "WIHeJ7vkL23O"
   },
   "source": [
    "# Dataset Import\n"
   ]
  },
  {
   "cell_type": "markdown",
   "metadata": {
    "colab_type": "text",
    "id": "haG8QmtrMBfn"
   },
   "source": [
    "For this project we will we working on data set from kaggle https://www.kaggle.com/jvanelteren/boardgamegeek-reviews. From the data sources we will be only using \"bgg-13m-reviews.csv\". I have used google colab for working on dataset as it gives 25 gb of ram which is sufficient for these kind of programs."
   ]
  },
  {
   "cell_type": "code",
   "execution_count": 0,
   "metadata": {
    "colab": {},
    "colab_type": "code",
    "id": "8R3wNI53rWdv"
   },
   "outputs": [],
   "source": [
    "df=pd.read_csv(\"/content/drive/My Drive/Colab Notebooks/bgg-13m-reviews.csv\")"
   ]
  },
  {
   "cell_type": "markdown",
   "metadata": {
    "colab_type": "text",
    "id": "85rKzG4ejc9Z"
   },
   "source": [
    "Now lets see how our data set and get some information about its shape"
   ]
  },
  {
   "cell_type": "code",
   "execution_count": 0,
   "metadata": {
    "colab": {
     "base_uri": "https://localhost:8080/",
     "height": 34
    },
    "colab_type": "code",
    "id": "cCfmOgk4AK20",
    "outputId": "f95a54ee-d5ea-404f-861a-9e09970a503d"
   },
   "outputs": [
    {
     "data": {
      "text/plain": [
       "(13170073, 6)"
      ]
     },
     "execution_count": 143,
     "metadata": {
      "tags": []
     },
     "output_type": "execute_result"
    }
   ],
   "source": [
    "df.shape"
   ]
  },
  {
   "cell_type": "code",
   "execution_count": 0,
   "metadata": {
    "colab": {
     "base_uri": "https://localhost:8080/",
     "height": 204
    },
    "colab_type": "code",
    "id": "KE72qHLmk6Y2",
    "outputId": "07f7f97b-f39e-4d68-e1c4-611be034c0ef"
   },
   "outputs": [
    {
     "data": {
      "text/html": [
       "<div>\n",
       "<style scoped>\n",
       "    .dataframe tbody tr th:only-of-type {\n",
       "        vertical-align: middle;\n",
       "    }\n",
       "\n",
       "    .dataframe tbody tr th {\n",
       "        vertical-align: top;\n",
       "    }\n",
       "\n",
       "    .dataframe thead th {\n",
       "        text-align: right;\n",
       "    }\n",
       "</style>\n",
       "<table border=\"1\" class=\"dataframe\">\n",
       "  <thead>\n",
       "    <tr style=\"text-align: right;\">\n",
       "      <th></th>\n",
       "      <th>Unnamed: 0</th>\n",
       "      <th>user</th>\n",
       "      <th>rating</th>\n",
       "      <th>comment</th>\n",
       "      <th>ID</th>\n",
       "      <th>name</th>\n",
       "    </tr>\n",
       "  </thead>\n",
       "  <tbody>\n",
       "    <tr>\n",
       "      <th>0</th>\n",
       "      <td>0</td>\n",
       "      <td>sidehacker</td>\n",
       "      <td>10.0</td>\n",
       "      <td>NaN</td>\n",
       "      <td>13</td>\n",
       "      <td>Catan</td>\n",
       "    </tr>\n",
       "    <tr>\n",
       "      <th>1</th>\n",
       "      <td>1</td>\n",
       "      <td>Varthlokkur</td>\n",
       "      <td>10.0</td>\n",
       "      <td>NaN</td>\n",
       "      <td>13</td>\n",
       "      <td>Catan</td>\n",
       "    </tr>\n",
       "    <tr>\n",
       "      <th>2</th>\n",
       "      <td>2</td>\n",
       "      <td>dougthonus</td>\n",
       "      <td>10.0</td>\n",
       "      <td>Currently, this sits on my list as my favorite...</td>\n",
       "      <td>13</td>\n",
       "      <td>Catan</td>\n",
       "    </tr>\n",
       "    <tr>\n",
       "      <th>3</th>\n",
       "      <td>3</td>\n",
       "      <td>cypar7</td>\n",
       "      <td>10.0</td>\n",
       "      <td>I know it says how many plays, but many, many ...</td>\n",
       "      <td>13</td>\n",
       "      <td>Catan</td>\n",
       "    </tr>\n",
       "    <tr>\n",
       "      <th>4</th>\n",
       "      <td>4</td>\n",
       "      <td>ssmooth</td>\n",
       "      <td>10.0</td>\n",
       "      <td>NaN</td>\n",
       "      <td>13</td>\n",
       "      <td>Catan</td>\n",
       "    </tr>\n",
       "  </tbody>\n",
       "</table>\n",
       "</div>"
      ],
      "text/plain": [
       "   Unnamed: 0         user  ...  ID   name\n",
       "0           0   sidehacker  ...  13  Catan\n",
       "1           1  Varthlokkur  ...  13  Catan\n",
       "2           2   dougthonus  ...  13  Catan\n",
       "3           3       cypar7  ...  13  Catan\n",
       "4           4      ssmooth  ...  13  Catan\n",
       "\n",
       "[5 rows x 6 columns]"
      ]
     },
     "execution_count": 144,
     "metadata": {
      "tags": []
     },
     "output_type": "execute_result"
    }
   ],
   "source": [
    "df.head(5)"
   ]
  },
  {
   "cell_type": "markdown",
   "metadata": {
    "colab_type": "text",
    "id": "6-5iwxdfk-IW"
   },
   "source": [
    "So till now we got the data loaded into our pandas data frame. <br> When you see the dataframe we derived, you would have thought what will we do with the columns like \"index\", \"user\",\"id\",\"name\" and rows which dont have any direct relation to reviews.<br>\n",
    "\n",
    "Dont worry hang in there! Our next section will deal those issue, were we wil clean our dataframe and only keep content which we will be needing"
   ]
  },
  {
   "cell_type": "markdown",
   "metadata": {
    "colab_type": "text",
    "id": "RRwUiEi1ASxA"
   },
   "source": [
    "# Data Cleaning\n"
   ]
  },
  {
   "cell_type": "markdown",
   "metadata": {
    "colab_type": "text",
    "id": "ZuenHNUUl6qN"
   },
   "source": [
    "So the first step I would take will be removing the columns which I will not be that useful in predicting the rating. So lets remove those coulmns."
   ]
  },
  {
   "cell_type": "code",
   "execution_count": 0,
   "metadata": {
    "colab": {},
    "colab_type": "code",
    "id": "a1SmjL-RtMDP"
   },
   "outputs": [],
   "source": [
    "df =df.drop(columns=['ID','name','user'])\n",
    "df = df.drop(df.columns[0],axis=1)\n"
   ]
  },
  {
   "cell_type": "code",
   "execution_count": 0,
   "metadata": {
    "colab": {
     "base_uri": "https://localhost:8080/",
     "height": 204
    },
    "colab_type": "code",
    "id": "ldyfGmaHE3uP",
    "outputId": "7b7d529f-ba1a-47a0-a21f-f37df2aacf5d"
   },
   "outputs": [
    {
     "data": {
      "text/html": [
       "<div>\n",
       "<style scoped>\n",
       "    .dataframe tbody tr th:only-of-type {\n",
       "        vertical-align: middle;\n",
       "    }\n",
       "\n",
       "    .dataframe tbody tr th {\n",
       "        vertical-align: top;\n",
       "    }\n",
       "\n",
       "    .dataframe thead th {\n",
       "        text-align: right;\n",
       "    }\n",
       "</style>\n",
       "<table border=\"1\" class=\"dataframe\">\n",
       "  <thead>\n",
       "    <tr style=\"text-align: right;\">\n",
       "      <th></th>\n",
       "      <th>rating</th>\n",
       "      <th>comment</th>\n",
       "    </tr>\n",
       "  </thead>\n",
       "  <tbody>\n",
       "    <tr>\n",
       "      <th>0</th>\n",
       "      <td>10.0</td>\n",
       "      <td>NaN</td>\n",
       "    </tr>\n",
       "    <tr>\n",
       "      <th>1</th>\n",
       "      <td>10.0</td>\n",
       "      <td>NaN</td>\n",
       "    </tr>\n",
       "    <tr>\n",
       "      <th>2</th>\n",
       "      <td>10.0</td>\n",
       "      <td>Currently, this sits on my list as my favorite...</td>\n",
       "    </tr>\n",
       "    <tr>\n",
       "      <th>3</th>\n",
       "      <td>10.0</td>\n",
       "      <td>I know it says how many plays, but many, many ...</td>\n",
       "    </tr>\n",
       "    <tr>\n",
       "      <th>4</th>\n",
       "      <td>10.0</td>\n",
       "      <td>NaN</td>\n",
       "    </tr>\n",
       "  </tbody>\n",
       "</table>\n",
       "</div>"
      ],
      "text/plain": [
       "   rating                                            comment\n",
       "0    10.0                                                NaN\n",
       "1    10.0                                                NaN\n",
       "2    10.0  Currently, this sits on my list as my favorite...\n",
       "3    10.0  I know it says how many plays, but many, many ...\n",
       "4    10.0                                                NaN"
      ]
     },
     "execution_count": 146,
     "metadata": {
      "tags": []
     },
     "output_type": "execute_result"
    }
   ],
   "source": [
    "df.head()"
   ]
  },
  {
   "cell_type": "markdown",
   "metadata": {
    "colab_type": "text",
    "id": "R9ZB-iKHmVMp"
   },
   "source": [
    "Now we have only two columns left that are ('comment', 'rating') which will be used through out our journey. After removing the additional columns you would have noticed that there are many 'NAN' values which means that those rows wont be useful for our prediction, So now we have to drop those rows "
   ]
  },
  {
   "cell_type": "code",
   "execution_count": 0,
   "metadata": {
    "colab": {},
    "colab_type": "code",
    "id": "gcMgS0_RmQI5"
   },
   "outputs": [],
   "source": [
    "df = df.dropna()"
   ]
  },
  {
   "cell_type": "code",
   "execution_count": 0,
   "metadata": {
    "colab": {
     "base_uri": "https://localhost:8080/",
     "height": 204
    },
    "colab_type": "code",
    "id": "0yUWMsVtFHWM",
    "outputId": "9bb26d02-b837-4887-e658-c5ebd9c60839"
   },
   "outputs": [
    {
     "data": {
      "text/html": [
       "<div>\n",
       "<style scoped>\n",
       "    .dataframe tbody tr th:only-of-type {\n",
       "        vertical-align: middle;\n",
       "    }\n",
       "\n",
       "    .dataframe tbody tr th {\n",
       "        vertical-align: top;\n",
       "    }\n",
       "\n",
       "    .dataframe thead th {\n",
       "        text-align: right;\n",
       "    }\n",
       "</style>\n",
       "<table border=\"1\" class=\"dataframe\">\n",
       "  <thead>\n",
       "    <tr style=\"text-align: right;\">\n",
       "      <th></th>\n",
       "      <th>rating</th>\n",
       "      <th>comment</th>\n",
       "    </tr>\n",
       "  </thead>\n",
       "  <tbody>\n",
       "    <tr>\n",
       "      <th>2</th>\n",
       "      <td>10.0</td>\n",
       "      <td>Currently, this sits on my list as my favorite...</td>\n",
       "    </tr>\n",
       "    <tr>\n",
       "      <th>3</th>\n",
       "      <td>10.0</td>\n",
       "      <td>I know it says how many plays, but many, many ...</td>\n",
       "    </tr>\n",
       "    <tr>\n",
       "      <th>7</th>\n",
       "      <td>10.0</td>\n",
       "      <td>i will never tire of this game.. Awesome</td>\n",
       "    </tr>\n",
       "    <tr>\n",
       "      <th>11</th>\n",
       "      <td>10.0</td>\n",
       "      <td>This is probably the best game I ever played. ...</td>\n",
       "    </tr>\n",
       "    <tr>\n",
       "      <th>16</th>\n",
       "      <td>10.0</td>\n",
       "      <td>Fantastic game. Got me hooked on games all ove...</td>\n",
       "    </tr>\n",
       "  </tbody>\n",
       "</table>\n",
       "</div>"
      ],
      "text/plain": [
       "    rating                                            comment\n",
       "2     10.0  Currently, this sits on my list as my favorite...\n",
       "3     10.0  I know it says how many plays, but many, many ...\n",
       "7     10.0           i will never tire of this game.. Awesome\n",
       "11    10.0  This is probably the best game I ever played. ...\n",
       "16    10.0  Fantastic game. Got me hooked on games all ove..."
      ]
     },
     "execution_count": 148,
     "metadata": {
      "tags": []
     },
     "output_type": "execute_result"
    }
   ],
   "source": [
    "df.head()"
   ]
  },
  {
   "cell_type": "markdown",
   "metadata": {
    "colab_type": "text",
    "id": "fhmrg3F6FKWm"
   },
   "source": [
    "So now our data set is clean, but I can see that rating is in decimals which tells me that there is a possibility of having more then just 1-10 rating lets see how many unique rating we have."
   ]
  },
  {
   "cell_type": "code",
   "execution_count": 0,
   "metadata": {
    "colab": {
     "base_uri": "https://localhost:8080/",
     "height": 50
    },
    "colab_type": "code",
    "id": "U_oOQ8BNnJF9",
    "outputId": "d4b135a0-8850-4f6c-ae85-cb9b1780001d"
   },
   "outputs": [
    {
     "data": {
      "text/plain": [
       "array([1.40130e-45, 1.00000e-04, 1.00000e-03, ..., 9.99990e+00,\n",
       "       9.99999e+00, 1.00000e+01])"
      ]
     },
     "execution_count": 9,
     "metadata": {
      "tags": []
     },
     "output_type": "execute_result"
    }
   ],
   "source": [
    "np.unique(df['rating'])"
   ]
  },
  {
   "cell_type": "code",
   "execution_count": 0,
   "metadata": {
    "colab": {
     "base_uri": "https://localhost:8080/",
     "height": 34
    },
    "colab_type": "code",
    "id": "sEV3V7GuFdU9",
    "outputId": "aa4bef6a-d68a-4ce9-c820-be414fec8217"
   },
   "outputs": [
    {
     "data": {
      "text/plain": [
       "3408"
      ]
     },
     "execution_count": 12,
     "metadata": {
      "tags": []
     },
     "output_type": "execute_result"
    }
   ],
   "source": [
    "len(np.unique(df['rating']))"
   ]
  },
  {
   "cell_type": "markdown",
   "metadata": {
    "colab_type": "text",
    "id": "cjMOGLWTnOzO"
   },
   "source": [
    " it turns out to be large set of  unique rating values(3408 to be precise), hence to simplfy thing at our end lets convert these number into integer which will remover all the decimal rating leaving us only rating from 1-10 we will be also removing anything which shows the rating as 0 as that will be possibility from rating like 0.5 which if converted into int will give 0"
   ]
  },
  {
   "cell_type": "code",
   "execution_count": 0,
   "metadata": {
    "colab": {},
    "colab_type": "code",
    "id": "sRuhC75vmSIx"
   },
   "outputs": [],
   "source": [
    "df['rating'] = df['rating'].astype(int)\n",
    "df = df[df.rating!= 0]"
   ]
  },
  {
   "cell_type": "markdown",
   "metadata": {
    "colab_type": "text",
    "id": "euhMWKHaoHBY"
   },
   "source": [
    "Now let see how again about the rating."
   ]
  },
  {
   "cell_type": "code",
   "execution_count": 0,
   "metadata": {
    "colab": {
     "base_uri": "https://localhost:8080/",
     "height": 34
    },
    "colab_type": "code",
    "id": "bX4cVHCs1_9m",
    "outputId": "51e103da-0ded-4b2f-9e47-88c16ca5d686"
   },
   "outputs": [
    {
     "data": {
      "text/plain": [
       "array([ 1,  2,  3,  4,  5,  6,  7,  8,  9, 10])"
      ]
     },
     "execution_count": 150,
     "metadata": {
      "tags": []
     },
     "output_type": "execute_result"
    }
   ],
   "source": [
    "\n",
    "np.unique(df['rating'])"
   ]
  },
  {
   "cell_type": "code",
   "execution_count": 0,
   "metadata": {
    "colab": {
     "base_uri": "https://localhost:8080/",
     "height": 34
    },
    "colab_type": "code",
    "id": "9XYVWEKYGDSq",
    "outputId": "dd6623fa-caf9-4037-f10d-a1c9b252bf77"
   },
   "outputs": [
    {
     "name": "stdout",
     "output_type": "stream",
     "text": [
      "10\n"
     ]
    }
   ],
   "source": [
    "print(len(np.unique(df['rating'])))"
   ]
  },
  {
   "cell_type": "markdown",
   "metadata": {
    "colab_type": "text",
    "id": "4AkA0Sm5GTVl"
   },
   "source": [
    "Volla!!! Now we got rating from 1 - 10, with only 10 unique values that mean 10 classifications, good job until now we have decreased our burden a bit, now lets see how big our dataset is and what further should we do."
   ]
  },
  {
   "cell_type": "code",
   "execution_count": 0,
   "metadata": {
    "colab": {
     "base_uri": "https://localhost:8080/",
     "height": 34
    },
    "colab_type": "code",
    "id": "9ZlLUdUDGI68",
    "outputId": "ec436ffd-81f0-4494-d807-29f92574b87a"
   },
   "outputs": [
    {
     "data": {
      "text/plain": [
       "(2637745, 2)"
      ]
     },
     "execution_count": 152,
     "metadata": {
      "tags": []
     },
     "output_type": "execute_result"
    }
   ],
   "source": [
    "df.shape"
   ]
  },
  {
   "cell_type": "markdown",
   "metadata": {
    "colab_type": "text",
    "id": "OEdYRkPtGqMv"
   },
   "source": [
    " **2637745 ** is a very big number it might take us a lot of processing power to run functions, we will try to use all data but be aware that it will take a considerable amount of time to run the function which we will see ahead. If you guys want you can divide the data set into smaller parts but be aware that the division should be in two way Balanced and Unbalanced, in balanced every rating should have equal set of reviews in our sample dataset and in Unabalanced there is no need for rating to have equal number of instances in sample data set"
   ]
  },
  {
   "cell_type": "markdown",
   "metadata": {
    "colab_type": "text",
    "id": "KmGPvj3zoYy3"
   },
   "source": [
    "With all the above steps done now we have a dataframe with comments and rating that we want. So its time to shift our focus to comments. The comments contains many words which will not be usefull for our prediction also we want to standardize the comments like removing punctutions, number and making all the letters lower case so that we can use each word of the comment in better way the following steps are for the reaching this goal\n",
    "\n",
    "\n",
    "\n",
    "1.   Make all character in same case and remove all charcaters which are not alphabets\n",
    "2.   Removing stopword\n",
    "\n",
    "For stopword removal we have used Gensim and its default stopwords\n",
    "\n"
   ]
  },
  {
   "cell_type": "markdown",
   "metadata": {
    "colab_type": "text",
    "id": "SWOLdjYaqbnI"
   },
   "source": [
    "\n",
    "\n",
    "> What are stop words?<br>\n",
    "Stop word are the comonly used words which have a very high frequency of occurance, due to there high frequecy of occurance, they are not useful in natural language processing, hence we always try to remove stop words before we procces for any processing.\n",
    "\n",
    "\n"
   ]
  },
  {
   "cell_type": "markdown",
   "metadata": {
    "colab_type": "text",
    "id": "6GW8Zk-3H0pD"
   },
   "source": [
    "Before we proceed let see the the top 50 most repeated word in our dataset before cleaning. In this way we can understand the use of cleaning comments and removing stopwords"
   ]
  },
  {
   "cell_type": "code",
   "execution_count": 0,
   "metadata": {
    "colab": {
     "base_uri": "https://localhost:8080/",
     "height": 867
    },
    "colab_type": "code",
    "id": "80rzugEPKJmR",
    "outputId": "9e9eecd3-59ab-4826-d2d9-79d208cdfbd7"
   },
   "outputs": [
    {
     "name": "stdout",
     "output_type": "stream",
     "text": [
      "the - 4029976\n",
      "a - 2716255\n",
      "to - 2629051\n",
      "and - 2308501\n",
      "of - 2089296\n",
      "I - 1710274\n",
      "game - 1560905\n",
      "is - 1535676\n",
      "it - 1220559\n",
      "with - 1030393\n",
      "but - 978253\n",
      "in - 953105\n",
      "for - 941430\n",
      "this - 922737\n",
      "that - 877324\n",
      "you - 764801\n",
      "The - 581758\n",
      "game. - 574394\n",
      "play - 556714\n",
      "as - 553192\n",
      "are - 546778\n",
      "on - 491813\n",
      "be - 488912\n",
      "like - 477754\n",
      "not - 475168\n",
      "have - 470895\n",
      "more - 455358\n",
      "my - 432877\n",
      "can - 390974\n",
      "one - 349591\n",
      "very - 330257\n",
      "or - 313473\n",
      "really - 312270\n",
      "at - 306364\n",
      "your - 305961\n",
      "so - 305722\n",
      "was - 300430\n",
      "just - 288310\n",
      "good - 277280\n",
      "fun - 276482\n",
      "A - 270707\n",
      "This - 269343\n",
      "game, - 268032\n",
      "some - 265374\n",
      "- - 261603\n",
      "get - 261023\n",
      "an - 260832\n",
      "than - 257442\n",
      "much - 254752\n",
      "played - 243407\n"
     ]
    }
   ],
   "source": [
    "from collections import Counter\n",
    "top50 = Counter(\" \".join(df[\"comment\"]).split()).most_common(50)\n",
    "for i in range (0 , len(top50)):\n",
    "  print(top50[i][0]+\" - \"+str(top50[i][1]))"
   ]
  },
  {
   "cell_type": "markdown",
   "metadata": {
    "colab_type": "text",
    "id": "uBkxLtCFQd5R"
   },
   "source": [
    "As you can see there are many vague word like The, I , that which usually wont have any effect it identfying the sentiment hence we should remove them and stopwords removing does the same"
   ]
  },
  {
   "cell_type": "code",
   "execution_count": 0,
   "metadata": {
    "colab": {},
    "colab_type": "code",
    "id": "ic2FjkCjCSux"
   },
   "outputs": [],
   "source": [
    "from gensim.parsing.preprocessing import remove_stopwords\n",
    "TOKEN_REGEX = re.compile(\"[^A-Za-z ]+\")\n",
    "def clean_data():\n",
    "\n",
    "  df['comment'] = df['comment'].str.lower()\n",
    "  my_new_list =[]\n",
    "  for val in df['comment']:\n",
    "    val = re.sub(TOKEN_REGEX, '', val)\n",
    "    val = remove_stopwords(val)\n",
    "    my_new_list.append(val)\n",
    "\n",
    "  df['cleaned_comment'] = my_new_list "
   ]
  },
  {
   "cell_type": "code",
   "execution_count": 0,
   "metadata": {
    "colab": {},
    "colab_type": "code",
    "id": "NYuptkWgVwwS"
   },
   "outputs": [],
   "source": [
    "#the following function will clean the comments by removing all characters except alphabets and then remove stopword as well.\n",
    "clean_data()"
   ]
  },
  {
   "cell_type": "markdown",
   "metadata": {
    "colab_type": "text",
    "id": "697moe3GQ-nB"
   },
   "source": [
    "Now we have removed the stop words and cleaned comment let me show you the impact in visual way, we will be using wordcloud help to demonstrate "
   ]
  },
  {
   "cell_type": "code",
   "execution_count": 0,
   "metadata": {
    "colab": {},
    "colab_type": "code",
    "id": "0vmglOB7QIp3"
   },
   "outputs": [],
   "source": [
    "from collections import Counter\n",
    "top50 = Counter(\" \".join(df[\"comment\"]).split()).most_common(50)\n",
    "\n",
    "s1 = []\n",
    "for i in range (0 , len(top50)):\n",
    "  s1.append(top50[i][0])\n",
    "  s1.append(\" \")\n",
    "\n",
    "s = ''.join(s1)"
   ]
  },
  {
   "cell_type": "code",
   "execution_count": 0,
   "metadata": {
    "colab": {
     "base_uri": "https://localhost:8080/",
     "height": 198
    },
    "colab_type": "code",
    "id": "hkctt58KJrBT",
    "outputId": "f6166598-30e3-45d4-e6b2-cb9f3f4f179c"
   },
   "outputs": [
    {
     "data": {
      "image/png": "[encoded data removed]",
      "text/plain": [
       "<Figure size 432x288 with 1 Axes>"
      ]
     },
     "metadata": {
      "needs_background": "light",
      "tags": []
     },
     "output_type": "display_data"
    }
   ],
   "source": [
    "from wordcloud import WordCloud\n",
    "import matplotlib.pyplot as plt \n",
    "import pandas as pd \n",
    "wordcloud = WordCloud().generate(s)\n",
    "\n",
    "# Display the generated image:\n",
    "plt.imshow(wordcloud, interpolation='bilinear')\n",
    "plt.axis(\"off\")\n",
    "plt.show()"
   ]
  },
  {
   "cell_type": "markdown",
   "metadata": {
    "colab_type": "text",
    "id": "BvTZW4iZR-kL"
   },
   "source": [
    "See now it makes more sense that we got word which really hold value in determining the sentiment."
   ]
  },
  {
   "cell_type": "markdown",
   "metadata": {
    "colab_type": "text",
    "id": "215U6FPbrozg"
   },
   "source": [
    "Now just to show the differnece between our comments before and after cleaning we have the below table, you can see the comments are now very much precise and thats what we want our predictions to be based upon"
   ]
  },
  {
   "cell_type": "code",
   "execution_count": 0,
   "metadata": {
    "colab": {
     "base_uri": "https://localhost:8080/",
     "height": 204
    },
    "colab_type": "code",
    "id": "5y4YnZ4SWayJ",
    "outputId": "62269b40-ce45-43ba-d2c4-b66425ea9762"
   },
   "outputs": [
    {
     "data": {
      "text/html": [
       "<div>\n",
       "<style scoped>\n",
       "    .dataframe tbody tr th:only-of-type {\n",
       "        vertical-align: middle;\n",
       "    }\n",
       "\n",
       "    .dataframe tbody tr th {\n",
       "        vertical-align: top;\n",
       "    }\n",
       "\n",
       "    .dataframe thead th {\n",
       "        text-align: right;\n",
       "    }\n",
       "</style>\n",
       "<table border=\"1\" class=\"dataframe\">\n",
       "  <thead>\n",
       "    <tr style=\"text-align: right;\">\n",
       "      <th></th>\n",
       "      <th>rating</th>\n",
       "      <th>comment</th>\n",
       "      <th>cleaned_comment</th>\n",
       "    </tr>\n",
       "  </thead>\n",
       "  <tbody>\n",
       "    <tr>\n",
       "      <th>2</th>\n",
       "      <td>10</td>\n",
       "      <td>currently, this sits on my list as my favorite...</td>\n",
       "      <td>currently sits list favorite game</td>\n",
       "    </tr>\n",
       "    <tr>\n",
       "      <th>3</th>\n",
       "      <td>10</td>\n",
       "      <td>i know it says how many plays, but many, many ...</td>\n",
       "      <td>know says plays uncounted liked version best</td>\n",
       "    </tr>\n",
       "    <tr>\n",
       "      <th>7</th>\n",
       "      <td>10</td>\n",
       "      <td>i will never tire of this game.. awesome</td>\n",
       "      <td>tire game awesome</td>\n",
       "    </tr>\n",
       "    <tr>\n",
       "      <th>11</th>\n",
       "      <td>10</td>\n",
       "      <td>this is probably the best game i ever played. ...</td>\n",
       "      <td>probably best game played requires thinking de...</td>\n",
       "    </tr>\n",
       "    <tr>\n",
       "      <th>16</th>\n",
       "      <td>10</td>\n",
       "      <td>fantastic game. got me hooked on games all ove...</td>\n",
       "      <td>fantastic game got hooked games</td>\n",
       "    </tr>\n",
       "  </tbody>\n",
       "</table>\n",
       "</div>"
      ],
      "text/plain": [
       "    rating  ...                                    cleaned_comment\n",
       "2       10  ...                  currently sits list favorite game\n",
       "3       10  ...       know says plays uncounted liked version best\n",
       "7       10  ...                                  tire game awesome\n",
       "11      10  ...  probably best game played requires thinking de...\n",
       "16      10  ...                    fantastic game got hooked games\n",
       "\n",
       "[5 rows x 3 columns]"
      ]
     },
     "execution_count": 156,
     "metadata": {
      "tags": []
     },
     "output_type": "execute_result"
    }
   ],
   "source": [
    "df.head()"
   ]
  },
  {
   "cell_type": "markdown",
   "metadata": {
    "colab_type": "text",
    "id": "uIXz1QrLr2JL"
   },
   "source": [
    "After cleaning the comments there might be some rows comments which may have be empty so now again we will run dropna function so that we remove all of those empty values rows."
   ]
  },
  {
   "cell_type": "code",
   "execution_count": 0,
   "metadata": {
    "colab": {
     "base_uri": "https://localhost:8080/",
     "height": 34
    },
    "colab_type": "code",
    "id": "ACXJZ7lpa8z8",
    "outputId": "0c621d61-7a9c-470a-8814-4b4630cec3bc"
   },
   "outputs": [
    {
     "data": {
      "text/plain": [
       "(2637745, 3)"
      ]
     },
     "execution_count": 157,
     "metadata": {
      "tags": []
     },
     "output_type": "execute_result"
    }
   ],
   "source": [
    "df.dropna()\n",
    "df.shape"
   ]
  },
  {
   "cell_type": "markdown",
   "metadata": {
    "colab_type": "text",
    "id": "6B77RfJpsObv"
   },
   "source": [
    "As we wont be using the comment columns we will drop it and make our cleaned_comment columns as comment column"
   ]
  },
  {
   "cell_type": "code",
   "execution_count": 0,
   "metadata": {
    "colab": {},
    "colab_type": "code",
    "id": "jpPfIZ-rbhJq"
   },
   "outputs": [],
   "source": [
    "df['comment']= df['cleaned_comment']\n",
    "\n",
    "df =df.drop(columns=['cleaned_comment'])\n"
   ]
  },
  {
   "cell_type": "code",
   "execution_count": 0,
   "metadata": {
    "colab": {
     "base_uri": "https://localhost:8080/",
     "height": 204
    },
    "colab_type": "code",
    "id": "urCuSlM3b8bq",
    "outputId": "39cfe7ab-5795-45d6-cf08-e81f78ad2771"
   },
   "outputs": [
    {
     "data": {
      "text/html": [
       "<div>\n",
       "<style scoped>\n",
       "    .dataframe tbody tr th:only-of-type {\n",
       "        vertical-align: middle;\n",
       "    }\n",
       "\n",
       "    .dataframe tbody tr th {\n",
       "        vertical-align: top;\n",
       "    }\n",
       "\n",
       "    .dataframe thead th {\n",
       "        text-align: right;\n",
       "    }\n",
       "</style>\n",
       "<table border=\"1\" class=\"dataframe\">\n",
       "  <thead>\n",
       "    <tr style=\"text-align: right;\">\n",
       "      <th></th>\n",
       "      <th>rating</th>\n",
       "      <th>comment</th>\n",
       "    </tr>\n",
       "  </thead>\n",
       "  <tbody>\n",
       "    <tr>\n",
       "      <th>2</th>\n",
       "      <td>10</td>\n",
       "      <td>currently sits list favorite game</td>\n",
       "    </tr>\n",
       "    <tr>\n",
       "      <th>3</th>\n",
       "      <td>10</td>\n",
       "      <td>know says plays uncounted liked version best</td>\n",
       "    </tr>\n",
       "    <tr>\n",
       "      <th>7</th>\n",
       "      <td>10</td>\n",
       "      <td>tire game awesome</td>\n",
       "    </tr>\n",
       "    <tr>\n",
       "      <th>11</th>\n",
       "      <td>10</td>\n",
       "      <td>probably best game played requires thinking de...</td>\n",
       "    </tr>\n",
       "    <tr>\n",
       "      <th>16</th>\n",
       "      <td>10</td>\n",
       "      <td>fantastic game got hooked games</td>\n",
       "    </tr>\n",
       "  </tbody>\n",
       "</table>\n",
       "</div>"
      ],
      "text/plain": [
       "    rating                                            comment\n",
       "2       10                  currently sits list favorite game\n",
       "3       10       know says plays uncounted liked version best\n",
       "7       10                                  tire game awesome\n",
       "11      10  probably best game played requires thinking de...\n",
       "16      10                    fantastic game got hooked games"
      ]
     },
     "execution_count": 159,
     "metadata": {
      "tags": []
     },
     "output_type": "execute_result"
    }
   ],
   "source": [
    "df.head()"
   ]
  },
  {
   "cell_type": "markdown",
   "metadata": {
    "colab_type": "text",
    "id": "M-qbFBm6sbhb"
   },
   "source": [
    "# Dataset Partition and visualization"
   ]
  },
  {
   "cell_type": "markdown",
   "metadata": {
    "colab_type": "text",
    "id": "eF1KgWUJsl25"
   },
   "source": [
    "In This section we will be dividing out dataset into test and train sets, there will be to types of division one which will divide the data set in 2 parts and the other which will divide the dataset in 4 parts.\n",
    "The data set is divided in the ration of 75% train to 25% test. "
   ]
  },
  {
   "cell_type": "code",
   "execution_count": 0,
   "metadata": {
    "colab": {},
    "colab_type": "code",
    "id": "bCsGPgzr2SQM"
   },
   "outputs": [],
   "source": [
    "train_data, test_data, _ = np.split(df.sample(frac=1, random_state=40), [int(0.75 * len(df)), int(len(df))])  \n"
   ]
  },
  {
   "cell_type": "markdown",
   "metadata": {
    "colab_type": "text",
    "id": "hHOX5-DLQ4ZQ"
   },
   "source": [
    "We will use train_test_split function from sklearn which helps us didvide our dataset as well as shufle it, by which we will get Unbalanced data set"
   ]
  },
  {
   "cell_type": "code",
   "execution_count": 0,
   "metadata": {
    "colab": {},
    "colab_type": "code",
    "id": "SXLwpfnscejZ"
   },
   "outputs": [],
   "source": [
    "from sklearn.model_selection import train_test_split\n",
    "x = df.comment\n",
    "y = df.rating\n",
    "x_train, x_test, y_train, y_test = train_test_split(x, y, \n",
    "                                                  stratify=y, \n",
    "                                                  random_state=40, \n",
    "                                                  test_size=0.25, shuffle=True)"
   ]
  },
  {
   "cell_type": "markdown",
   "metadata": {
    "colab_type": "text",
    "id": "NW8vdHZTtrkO"
   },
   "source": [
    "One of my intution was to somehow understand the prediction for each rating level so lets visualize that with the help of a plot"
   ]
  },
  {
   "cell_type": "code",
   "execution_count": 0,
   "metadata": {
    "colab": {
     "base_uri": "https://localhost:8080/",
     "height": 265
    },
    "colab_type": "code",
    "id": "iZbbfUQ5S0sx",
    "outputId": "7f32882d-dd90-413b-c466-e850e130b213"
   },
   "outputs": [
    {
     "data": {
      "image/png": "[encoded data removed]",
      "text/plain": [
       "<Figure size 432x288 with 1 Axes>"
      ]
     },
     "metadata": {
      "needs_background": "light",
      "tags": []
     },
     "output_type": "display_data"
    }
   ],
   "source": [
    "df['rating'].hist();"
   ]
  },
  {
   "cell_type": "markdown",
   "metadata": {
    "colab_type": "text",
    "id": "dHVU_TYvVqoc"
   },
   "source": [
    "So now we can see that most of the review are between rating 6-8 lets us move a bit further and see how well we be doing with each rating using basic navie bayes classifier for which I created the following data frame which will now be usefull to undertsand how well we are predicitng for each rating."
   ]
  },
  {
   "cell_type": "code",
   "execution_count": 0,
   "metadata": {
    "colab": {
     "base_uri": "https://localhost:8080/",
     "height": 204
    },
    "colab_type": "code",
    "id": "_ecmwYSR2Wxu",
    "outputId": "482522d0-f09f-4bc2-d3ec-fe0767eb0a3f"
   },
   "outputs": [
    {
     "data": {
      "text/html": [
       "<div>\n",
       "<style scoped>\n",
       "    .dataframe tbody tr th:only-of-type {\n",
       "        vertical-align: middle;\n",
       "    }\n",
       "\n",
       "    .dataframe tbody tr th {\n",
       "        vertical-align: top;\n",
       "    }\n",
       "\n",
       "    .dataframe thead th {\n",
       "        text-align: right;\n",
       "    }\n",
       "</style>\n",
       "<table border=\"1\" class=\"dataframe\">\n",
       "  <thead>\n",
       "    <tr style=\"text-align: right;\">\n",
       "      <th></th>\n",
       "      <th>comment</th>\n",
       "      <th>rating_1</th>\n",
       "      <th>rating_2</th>\n",
       "      <th>rating_3</th>\n",
       "      <th>rating_4</th>\n",
       "      <th>rating_5</th>\n",
       "      <th>rating_6</th>\n",
       "      <th>rating_7</th>\n",
       "      <th>rating_8</th>\n",
       "      <th>rating_9</th>\n",
       "      <th>rating_10</th>\n",
       "    </tr>\n",
       "  </thead>\n",
       "  <tbody>\n",
       "    <tr>\n",
       "      <th>10633648</th>\n",
       "      <td>wargames simple fun wargame</td>\n",
       "      <td>0</td>\n",
       "      <td>0</td>\n",
       "      <td>0</td>\n",
       "      <td>0</td>\n",
       "      <td>0</td>\n",
       "      <td>1</td>\n",
       "      <td>0</td>\n",
       "      <td>0</td>\n",
       "      <td>0</td>\n",
       "      <td>0</td>\n",
       "    </tr>\n",
       "    <tr>\n",
       "      <th>6325302</th>\n",
       "      <td>donated game better card additions stands prob...</td>\n",
       "      <td>0</td>\n",
       "      <td>0</td>\n",
       "      <td>0</td>\n",
       "      <td>0</td>\n",
       "      <td>0</td>\n",
       "      <td>1</td>\n",
       "      <td>0</td>\n",
       "      <td>0</td>\n",
       "      <td>0</td>\n",
       "      <td>0</td>\n",
       "    </tr>\n",
       "    <tr>\n",
       "      <th>9333860</th>\n",
       "      <td>lot playtime went game enjoyed building fleet ...</td>\n",
       "      <td>0</td>\n",
       "      <td>0</td>\n",
       "      <td>0</td>\n",
       "      <td>0</td>\n",
       "      <td>0</td>\n",
       "      <td>0</td>\n",
       "      <td>0</td>\n",
       "      <td>1</td>\n",
       "      <td>0</td>\n",
       "      <td>0</td>\n",
       "    </tr>\n",
       "    <tr>\n",
       "      <th>6359648</th>\n",
       "      <td>downside game far im concerned headache time t...</td>\n",
       "      <td>0</td>\n",
       "      <td>0</td>\n",
       "      <td>0</td>\n",
       "      <td>0</td>\n",
       "      <td>0</td>\n",
       "      <td>0</td>\n",
       "      <td>0</td>\n",
       "      <td>0</td>\n",
       "      <td>0</td>\n",
       "      <td>1</td>\n",
       "    </tr>\n",
       "    <tr>\n",
       "      <th>3838898</th>\n",
       "      <td>good rulebook plays reasonably fast elegant</td>\n",
       "      <td>0</td>\n",
       "      <td>0</td>\n",
       "      <td>0</td>\n",
       "      <td>0</td>\n",
       "      <td>0</td>\n",
       "      <td>0</td>\n",
       "      <td>0</td>\n",
       "      <td>0</td>\n",
       "      <td>1</td>\n",
       "      <td>0</td>\n",
       "    </tr>\n",
       "  </tbody>\n",
       "</table>\n",
       "</div>"
      ],
      "text/plain": [
       "                                                    comment  ...  rating_10\n",
       "10633648                        wargames simple fun wargame  ...          0\n",
       "6325302   donated game better card additions stands prob...  ...          0\n",
       "9333860   lot playtime went game enjoyed building fleet ...  ...          0\n",
       "6359648   downside game far im concerned headache time t...  ...          1\n",
       "3838898         good rulebook plays reasonably fast elegant  ...          0\n",
       "\n",
       "[5 rows x 11 columns]"
      ]
     },
     "execution_count": 163,
     "metadata": {
      "tags": []
     },
     "output_type": "execute_result"
    }
   ],
   "source": [
    "train = pd.get_dummies(train_data, columns = ['rating'])\n",
    "train.head()"
   ]
  },
  {
   "cell_type": "code",
   "execution_count": 0,
   "metadata": {
    "colab": {
     "base_uri": "https://localhost:8080/",
     "height": 204
    },
    "colab_type": "code",
    "id": "XskOyNAN2ZB3",
    "outputId": "feb85c4c-616c-414f-a446-6666599f694b"
   },
   "outputs": [
    {
     "data": {
      "text/html": [
       "<div>\n",
       "<style scoped>\n",
       "    .dataframe tbody tr th:only-of-type {\n",
       "        vertical-align: middle;\n",
       "    }\n",
       "\n",
       "    .dataframe tbody tr th {\n",
       "        vertical-align: top;\n",
       "    }\n",
       "\n",
       "    .dataframe thead th {\n",
       "        text-align: right;\n",
       "    }\n",
       "</style>\n",
       "<table border=\"1\" class=\"dataframe\">\n",
       "  <thead>\n",
       "    <tr style=\"text-align: right;\">\n",
       "      <th></th>\n",
       "      <th>comment</th>\n",
       "      <th>rating_1</th>\n",
       "      <th>rating_2</th>\n",
       "      <th>rating_3</th>\n",
       "      <th>rating_4</th>\n",
       "      <th>rating_5</th>\n",
       "      <th>rating_6</th>\n",
       "      <th>rating_7</th>\n",
       "      <th>rating_8</th>\n",
       "      <th>rating_9</th>\n",
       "      <th>rating_10</th>\n",
       "    </tr>\n",
       "  </thead>\n",
       "  <tbody>\n",
       "    <tr>\n",
       "      <th>6480188</th>\n",
       "      <td>great solid simple mechanics lots variety opti...</td>\n",
       "      <td>0</td>\n",
       "      <td>0</td>\n",
       "      <td>0</td>\n",
       "      <td>0</td>\n",
       "      <td>0</td>\n",
       "      <td>0</td>\n",
       "      <td>0</td>\n",
       "      <td>1</td>\n",
       "      <td>0</td>\n",
       "      <td>0</td>\n",
       "    </tr>\n",
       "    <tr>\n",
       "      <th>1129772</th>\n",
       "      <td>foamcored</td>\n",
       "      <td>0</td>\n",
       "      <td>0</td>\n",
       "      <td>0</td>\n",
       "      <td>0</td>\n",
       "      <td>0</td>\n",
       "      <td>0</td>\n",
       "      <td>1</td>\n",
       "      <td>0</td>\n",
       "      <td>0</td>\n",
       "      <td>0</td>\n",
       "    </tr>\n",
       "    <tr>\n",
       "      <th>3122869</th>\n",
       "      <td>quickly moving ladder haha games time surprise...</td>\n",
       "      <td>0</td>\n",
       "      <td>0</td>\n",
       "      <td>0</td>\n",
       "      <td>0</td>\n",
       "      <td>0</td>\n",
       "      <td>1</td>\n",
       "      <td>0</td>\n",
       "      <td>0</td>\n",
       "      <td>0</td>\n",
       "      <td>0</td>\n",
       "    </tr>\n",
       "    <tr>\n",
       "      <th>8196323</th>\n",
       "      <td>rate players players</td>\n",
       "      <td>0</td>\n",
       "      <td>0</td>\n",
       "      <td>0</td>\n",
       "      <td>0</td>\n",
       "      <td>0</td>\n",
       "      <td>0</td>\n",
       "      <td>0</td>\n",
       "      <td>1</td>\n",
       "      <td>0</td>\n",
       "      <td>0</td>\n",
       "    </tr>\n",
       "    <tr>\n",
       "      <th>10280183</th>\n",
       "      <td>fans xx series game little difficult swallow p...</td>\n",
       "      <td>0</td>\n",
       "      <td>0</td>\n",
       "      <td>0</td>\n",
       "      <td>0</td>\n",
       "      <td>0</td>\n",
       "      <td>0</td>\n",
       "      <td>0</td>\n",
       "      <td>1</td>\n",
       "      <td>0</td>\n",
       "      <td>0</td>\n",
       "    </tr>\n",
       "  </tbody>\n",
       "</table>\n",
       "</div>"
      ],
      "text/plain": [
       "                                                    comment  ...  rating_10\n",
       "6480188   great solid simple mechanics lots variety opti...  ...          0\n",
       "1129772                                           foamcored  ...          0\n",
       "3122869   quickly moving ladder haha games time surprise...  ...          0\n",
       "8196323                                rate players players  ...          0\n",
       "10280183  fans xx series game little difficult swallow p...  ...          0\n",
       "\n",
       "[5 rows x 11 columns]"
      ]
     },
     "execution_count": 164,
     "metadata": {
      "tags": []
     },
     "output_type": "execute_result"
    }
   ],
   "source": [
    "test = pd.get_dummies(test_data, columns = ['rating'])\n",
    "test.head()"
   ]
  },
  {
   "cell_type": "markdown",
   "metadata": {
    "colab_type": "text",
    "id": "DNo_5VmM24KO"
   },
   "source": [
    "# **Naive Bayes**\n",
    "\n",
    "Naive Bayes classifiers are linear classifiers that are known for being simple yet very efficient.\n",
    "There are few reasons why I choose to implement naive bayes. It doesn’t require as much training data.It is highly scalable with the number of predictors and data points.It is fast and can be used to make real-time predictions. It is not sensitive to irrelevant features. Hence we will be trying to predict using navie bayes, also we will try to check each rating cross validation score so that we can understand more carefully on how good we can predict each rating\n",
    "\n",
    "\n",
    "\n",
    "\n",
    "\n",
    "> What is Naive Bayes classfication?<br>\n",
    "You can say its a classification based on Baye's theorem and half of the marks should be given for that ;) But for the rest half you should know what bayes theorem is. So lets understand bayes theorem and from then it would be a cake walk. \n",
    "<br>\n",
    "Bayes theorem helps us to find contional probability for example there are two events one is Fire and the other one is Smoke now if you want to find the probabiliyt of having Fire when there is smoke you can use the following formula.\n",
    "<br>![alt text](https://sameerpvs.uta.cloud/nb.PNG)<br>\n",
    "So I wont go to detail but I guess that I have given a pretty good idea on what it.Now coming to our classifier we sorted why its called Bayes now lets see why its called Naive, because of the independent nature it uses also taken into consideration how simple the logic behind this is you will also call it naive :)<br> So for example if you define a  Mango something like which is yellow shade in color, 2-4 inches in size and is in kind of eliptical shape. These feature together make it an orange but all these proprties independently contribute the probability the fruit is mango. Hence because of this is known as Naive.\n",
    "<br>\n",
    "\n",
    "\n",
    "\n",
    "\n",
    " So we finally got an broad idea how this Classifier is going to work lets roll and see the implementation part.\n"
   ]
  },
  {
   "cell_type": "markdown",
   "metadata": {
    "colab_type": "text",
    "id": "3N1PWKHGkeh-"
   },
   "source": [
    "So before implementing I would like take a moment let you all understand about TF -IDF which we will be using in the next step. "
   ]
  },
  {
   "cell_type": "markdown",
   "metadata": {
    "colab_type": "text",
    "id": "pk85iy-a2gLk"
   },
   "source": [
    "\n",
    "**Term Frequency (TF)**\n",
    "The number of times a word appears in a document divded by the total number of words in the document. Every document has its own term frequency\n",
    "\n",
    "**Inverse Data Frequency (IDF)**\n",
    "The log of the number of documents divided by the number of documents that contain the word w. Inverse data frequency determines the weight of rare words across all documents in the corpus.\n",
    "\n",
    "**Why Use TFIDF?**\n",
    "*   It is very efficient.\n",
    "*   From the research, many scholars have proven the TF-IDF document which is highly relevant to query.\n",
    "*   Easy to compute the problem.\n",
    "*   Have some basic metric to extract the descriptive document.\n",
    "*   Easily compute the similarity between the documents using it."
   ]
  },
  {
   "cell_type": "markdown",
   "metadata": {
    "colab_type": "text",
    "id": "Cb9mBKS0mJ5U"
   },
   "source": [
    "So now as I have given you text book defination let me tell you in my way what will the next two line do."
   ]
  },
  {
   "cell_type": "code",
   "execution_count": 0,
   "metadata": {
    "colab": {},
    "colab_type": "code",
    "id": "5KPU637_2bWi"
   },
   "outputs": [],
   "source": [
    "max_features = 2000\n",
    "tfidf = TfidfVectorizer(max_features = max_features)"
   ]
  },
  {
   "cell_type": "markdown",
   "metadata": {
    "colab_type": "text",
    "id": "0wgshNRNnQ26"
   },
   "source": [
    "Now as we have got our tfidf lets create a Pipeling and fit the model leveraging SKlearn capabilties, So what pipleine does it makes the program run one after other, same like how water goes from a pipe. Remeber we will be using pipeline throughout our journey."
   ]
  },
  {
   "cell_type": "code",
   "execution_count": 0,
   "metadata": {
    "colab": {},
    "colab_type": "code",
    "id": "2_Czw2Mv2lUz"
   },
   "outputs": [],
   "source": [
    "p_nb = Pipeline([  \n",
    "                 ('tfidf',TfidfVectorizer()),\n",
    "                 ('clf', nb)])\n",
    "p_nb.fit(x_train,y_train)\n",
    "pred = p_nb.predict(x_test)"
   ]
  },
  {
   "cell_type": "markdown",
   "metadata": {
    "colab_type": "text",
    "id": "DbN4pfkx3xUG"
   },
   "source": [
    "Accuracy visualization for naive bayes with tfidf"
   ]
  },
  {
   "cell_type": "code",
   "execution_count": 0,
   "metadata": {
    "colab": {
     "base_uri": "https://localhost:8080/",
     "height": 34
    },
    "colab_type": "code",
    "id": "euj0aDFF_TQM",
    "outputId": "a2cffdb3-0777-42f5-dc71-b8a904e70401"
   },
   "outputs": [
    {
     "data": {
      "text/plain": [
       "0.2849991735374266"
      ]
     },
     "execution_count": 31,
     "metadata": {
      "tags": []
     },
     "output_type": "execute_result"
    }
   ],
   "source": [
    "nb_tfidf_accuracy = accuracy_score(y_test, pred)"
   ]
  },
  {
   "cell_type": "markdown",
   "metadata": {
    "colab_type": "text",
    "id": "5PT_b8BMoDb6"
   },
   "source": [
    "So the accuarcy is bit low but considering the 10 classes we have we were expecting the same but that not enough lets try something different we will use count Vectorizer this time and check the accuracy."
   ]
  },
  {
   "cell_type": "code",
   "execution_count": 0,
   "metadata": {
    "colab": {},
    "colab_type": "code",
    "id": "HiufaRPG1Fza"
   },
   "outputs": [],
   "source": [
    "nb =MultinomialNB()\n",
    "p_nb_cV = Pipeline([\n",
    "                 ('vect', CountVectorizer()),\n",
    "                 ('clf', nb),])\n",
    "p_nb_cV.fit(x_train,y_train)\n",
    "pred_cV = p_nb_cV.predict(x_test)"
   ]
  },
  {
   "cell_type": "markdown",
   "metadata": {
    "colab_type": "text",
    "id": "VMoINlvB1W8c"
   },
   "source": [
    "Accuracy visualization for naive bayes with countVectorizer"
   ]
  },
  {
   "cell_type": "code",
   "execution_count": 0,
   "metadata": {
    "colab": {
     "base_uri": "https://localhost:8080/",
     "height": 34
    },
    "colab_type": "code",
    "id": "Q1CC-4301YgE",
    "outputId": "335f930f-7348-46fd-d1f3-69547d5fad09"
   },
   "outputs": [
    {
     "data": {
      "text/plain": [
       "0.31173561689744433"
      ]
     },
     "execution_count": 33,
     "metadata": {
      "tags": []
     },
     "output_type": "execute_result"
    }
   ],
   "source": [
    "nb_cv_accuracy= accuracy_score(y_test, pred_cV)"
   ]
  },
  {
   "cell_type": "markdown",
   "metadata": {
    "colab_type": "text",
    "id": "SErPYFvlj3ln"
   },
   "source": [
    "Like shown above, The accuracy for naive bayes is higher if there is no TFIDF used. I have explored some of the reasons for this and they are following:\n",
    "*   TFIDF assume the count of different words that provide independent evidence of the similarity.\n",
    "*   It makes no use of similarities between the words.\n",
    "\n",
    "So for now our highes accuracy is 31%"
   ]
  },
  {
   "cell_type": "markdown",
   "metadata": {
    "colab_type": "text",
    "id": "K8m0I2VGpRUT"
   },
   "source": [
    "Now I would like to dive deep and understand a bit more and go on with my intution of trying to understand about each rating prediction so that we can have an idea on how our model is working on finer details"
   ]
  },
  {
   "cell_type": "code",
   "execution_count": 0,
   "metadata": {
    "colab": {},
    "colab_type": "code",
    "id": "W6JaJs9P3aox"
   },
   "outputs": [],
   "source": [
    "def displayFunc(train, test,p):\n",
    "  class_names = ['rating_1', 'rating_2', 'rating_3', 'rating_4', 'rating_5','rating_6', 'rating_7', 'rating_8', 'rating_9', 'rating_10']\n",
    "  scores = []\n",
    "  preds = np.zeros((len(test), len(class_names)))\n",
    "  for i, class_name in enumerate(class_names):\n",
    "      train_target = train[class_name]  \n",
    "      cv_score = np.mean(cross_val_score(estimator = p, X = train['comment'].values, y = train_target, cv = 2, scoring = 'accuracy'))\n",
    "      scores.append(cv_score)\n",
    "      print('CV score for class {} is {}'.format(class_name, cv_score))\n",
    "      p.fit(train['comment'].values, train_target)\n",
    "      preds[:,i] = p.predict_proba(test['comment'].values)[:,1]"
   ]
  },
  {
   "cell_type": "code",
   "execution_count": 0,
   "metadata": {
    "colab": {
     "base_uri": "https://localhost:8080/",
     "height": 185
    },
    "colab_type": "code",
    "id": "DqZdr4CY3u3Y",
    "outputId": "dea5509c-2797-4ea0-85e9-c5e5a14f1f0c"
   },
   "outputs": [
    {
     "name": "stdout",
     "output_type": "stream",
     "text": [
      "CV score for class rating_1 is 0.9920042784035651\n",
      "CV score for class rating_2 is 0.9847490886151196\n",
      "CV score for class rating_3 is 0.9711015676022136\n",
      "CV score for class rating_4 is 0.9495088732391519\n",
      "CV score for class rating_5 is 0.9045871522533397\n",
      "CV score for class rating_6 is 0.8053351652017785\n",
      "CV score for class rating_7 is 0.736415664294943\n",
      "CV score for class rating_8 is 0.7999158877181916\n",
      "CV score for class rating_9 is 0.9047276763779957\n",
      "CV score for class rating_10 is 0.9516536353287759\n"
     ]
    }
   ],
   "source": [
    "nb =MultinomialNB()\n",
    "p = Pipeline([\n",
    "     ('td',tfidf),       \n",
    "    ('nb', nb)\n",
    "])\n",
    "displayFunc(train, test,p)"
   ]
  },
  {
   "cell_type": "markdown",
   "metadata": {
    "colab_type": "text",
    "id": "ZChoqHY3qDE6"
   },
   "source": [
    "So with the above result we should be happy :) but remember in mind that having 99% cv score for rating_1 does mean we are getting accuracy of 99% for the model it just says that our model can predict rating with 1 value 99% correctly however as shown in the prior graph the number of reviews for 1 rating are less so that helps the cv score, compared to the cv score of rating 6,7,8 we have decerase in predictablity but still considering the simplicity of navie bayes we can fairly assume that the prediction and accuracy we got from Navie Bayes are very good, Still for understanding and seeing how other classifer works we will trying on them and see there predictions and we might even tune them"
   ]
  },
  {
   "cell_type": "markdown",
   "metadata": {
    "colab_type": "text",
    "id": "wVNxq5XkdGJh"
   },
   "source": [
    "# Ridge Rigression\n",
    "\n",
    "Ridge regression, as the name suggests, is a method for regression rather than classification. Presumably I'm using a threshold to turn it into a classifier.The reason for it is working is because the task at hand is essentially linearly separable - i.e. a simple hyperplane is all that is needed to separate the classes. The \"ridge\" parameter allows it to work in cases that are not completely linearly separable or problems which are rank deficient.\n",
    "\n",
    "The Reasons I choose ridge regression are: Ridge regression adds just enough bias to make the estimates reasonably reliable approximations to true population values.One important advantage of the ridge regression is that it still performs well, compared to the ordinary least square method in a situation where there is a large multivariate data"
   ]
  },
  {
   "cell_type": "code",
   "execution_count": 0,
   "metadata": {
    "colab": {},
    "colab_type": "code",
    "id": "cczzNiqedLiM"
   },
   "outputs": [],
   "source": [
    "from sklearn.linear_model import RidgeClassifier\n",
    "p_rg = Pipeline([('vect', CountVectorizer()),\n",
    "('clf', RidgeClassifier()),])\n",
    "p_rg.fit(x_train,y_train)\n",
    "pred = p_rg.predict(xtest) "
   ]
  },
  {
   "cell_type": "code",
   "execution_count": 0,
   "metadata": {
    "colab": {
     "base_uri": "https://localhost:8080/",
     "height": 34
    },
    "colab_type": "code",
    "id": "mYHXCaMBdh3d",
    "outputId": "ad1aa3aa-ce24-4374-a036-09a59f95f76a"
   },
   "outputs": [
    {
     "data": {
      "text/plain": [
       "0.3022305390810646"
      ]
     },
     "execution_count": 171,
     "metadata": {
      "tags": []
     },
     "output_type": "execute_result"
    }
   ],
   "source": [
    "rg_accuracy = accuracy_score(y_test, pred)"
   ]
  },
  {
   "cell_type": "markdown",
   "metadata": {
    "colab_type": "text",
    "id": "2VNKlh-EsS6w"
   },
   "source": [
    "we got pretty good accuracy with ridge regressing but Naive Bayes still lead, so lets move on to our next trail which will be SVC"
   ]
  },
  {
   "cell_type": "markdown",
   "metadata": {
    "colab_type": "text",
    "id": "rxO5zwv-wnKw"
   },
   "source": [
    "# Support Vector Classification\n",
    "\n",
    "Support vector machines is an algorithm that determines the best decision boundary between vectors that belong to a given group (or category) and vectors that do not belong to it.\n",
    "\n",
    "Coming to the  reason I choose SVM is: It can be applied to any kind of vectors which encode any kind of data. As the data used is already converted to vectors, the SVM is highly effective.A small change to the data does not greatly affect the hyperplane and hence the SVM."
   ]
  },
  {
   "cell_type": "code",
   "execution_count": 0,
   "metadata": {
    "colab": {},
    "colab_type": "code",
    "id": "7y0edvGH1ny4"
   },
   "outputs": [],
   "source": [
    "from sklearn.svm import SVC\n",
    "p_svc = Pipeline([('vect', CountVectorizer()),\n",
    "('clf', SVC(gamma='auto')),])\n",
    "p_svc.fit(x_train,y_train)\n",
    "pred = p_svc.predict(x_test)"
   ]
  },
  {
   "cell_type": "code",
   "execution_count": 0,
   "metadata": {
    "colab": {
     "base_uri": "https://localhost:8080/",
     "height": 34
    },
    "colab_type": "code",
    "id": "gUsX0Tz81_MO",
    "outputId": "abe97ef0-3c9c-4516-9969-929a324aeaae"
   },
   "outputs": [
    {
     "data": {
      "text/plain": [
       "0.2548"
      ]
     },
     "execution_count": 35,
     "metadata": {
      "tags": []
     },
     "output_type": "execute_result"
    }
   ],
   "source": [
    "svc_accuracy = accuracy_score(y_test, pred)"
   ]
  },
  {
   "cell_type": "markdown",
   "metadata": {
    "colab_type": "text",
    "id": "J4NcZADxmTMT"
   },
   "source": [
    "Unfortunately, SVM did not perform well compared to other classifiers. I have looked for reasons why and they are below:\n",
    "*   SVMs are not very efficient computationally, if your dataset is very big, such as when you have more than one thousand rows.\n",
    "*   Algorithm is prone for over-fitting, if the number of features is much greater than the number of samples.\n",
    "\n",
    "SO dont worry we will still try some more and check if we can beat Naive Bayes"
   ]
  },
  {
   "cell_type": "markdown",
   "metadata": {
    "colab_type": "text",
    "id": "T6O-Wfkw31n4"
   },
   "source": [
    "# SGD Classifier\n",
    "This estimator implements regularized linear models with stochastic gradient descent (SGD) learning: the gradient of the loss is estimated each sample at a time and the model is updated along the way with a decreasing strength schedule.\n",
    "supports multi-class classification by combining multiple binary classifiers in a “one versus all” (OVA) scheme. For each of the  classes, a binary classifier is learned that discriminates between that and all other  classes.\n"
   ]
  },
  {
   "cell_type": "code",
   "execution_count": 0,
   "metadata": {
    "colab": {},
    "colab_type": "code",
    "id": "MvJxogV44BkL"
   },
   "outputs": [],
   "source": [
    "from sklearn import linear_model\n",
    "p_sgd = Pipeline([('vect', CountVectorizer()),\n",
    "('clf', linear_model.SGDClassifier(max_iter=1000, tol=1e-3))])\n",
    "p_sgd.fit(x_train,y_train)\n",
    "pred = p_sgd.predict(x_test)"
   ]
  },
  {
   "cell_type": "code",
   "execution_count": 0,
   "metadata": {
    "colab": {
     "base_uri": "https://localhost:8080/",
     "height": 34
    },
    "colab_type": "code",
    "id": "jeW7kh6WVd6e",
    "outputId": "ddda9283-296e-4ea5-c608-49d64470f853"
   },
   "outputs": [
    {
     "data": {
      "text/plain": [
       "0.27662536375726565"
      ]
     },
     "execution_count": 37,
     "metadata": {
      "tags": []
     },
     "output_type": "execute_result"
    }
   ],
   "source": [
    "sgd_accuracy = accuracy_score(y_test, pred)"
   ]
  },
  {
   "cell_type": "markdown",
   "metadata": {
    "colab_type": "text",
    "id": "lKRaI_NqoM0O"
   },
   "source": [
    "\n",
    "Oh Darn!, we got less accuracy this time as well but its better than SVC, now I have looked for reasons why SDG classifier is not working.<br>\n",
    "My assumptions less accuracy is : Stochastic Gradient Descent (SGD) requires several hyperparameters like regularization parameters.It is sensitive to feature scaling, hence as we have used pretty standard out of box function we might have got less accuracy but for now I wont be dwelling into this but will rather move on to my next classifier "
   ]
  },
  {
   "cell_type": "markdown",
   "metadata": {
    "colab_type": "text",
    "id": "ftBPBRV04c-5"
   },
   "source": [
    "# Xgboost\n",
    "This has become a popular algorithm in recent days. I read it somewhere in Kaggle network.\n",
    "Basics:\n",
    "The implementation of the algorithm was engineered for efficiency of compute time and memory resources. A design goal was to make the best use of available resources to train the model. Some key algorithm implementation features include:\n",
    "Sparse Aware implementation with automatic handling of missing data values.\n",
    "Block Structure to support the parallelization of tree construction.\n",
    "Continued Training so that you can further boost an already fitted model on new data.\n",
    "\n",
    "2 main reasons I choose Xgboost are: Execution Speed and Model Performance."
   ]
  },
  {
   "cell_type": "code",
   "execution_count": 0,
   "metadata": {
    "colab": {},
    "colab_type": "code",
    "id": "l4Ivx1qxVglP"
   },
   "outputs": [],
   "source": [
    "import xgboost as xgb\n",
    "from sklearn import linear_model\n",
    "p_xgb = Pipeline([('tfidf', tfidf),\n",
    "('clf',  xgb.XGBClassifier(max_depth=7, n_estimators=200, colsample_bytree=0.8, \n",
    "                        subsample=0.8, nthread=10, learning_rate=0.1))])\n",
    "p_xgb.fit(x_train,y_train)\n",
    "pred = p_xgb.predict(x_test)"
   ]
  },
  {
   "cell_type": "code",
   "execution_count": 0,
   "metadata": {
    "colab": {
     "base_uri": "https://localhost:8080/",
     "height": 34
    },
    "colab_type": "code",
    "id": "zbidqcebVhBq",
    "outputId": "63375c68-61c8-4c01-c90c-3ab55acbf6b4"
   },
   "outputs": [
    {
     "data": {
      "text/plain": [
       "0.27"
      ]
     },
     "execution_count": 40,
     "metadata": {
      "tags": []
     },
     "output_type": "execute_result"
    }
   ],
   "source": [
    "xgb_accuracy = accuracy_score(y_test, pred)"
   ]
  },
  {
   "cell_type": "markdown",
   "metadata": {
    "colab_type": "text",
    "id": "5vsJbE2wuEnB"
   },
   "source": [
    "Ah ! Again it did show us quite convencing results but it was good to know classifer. But remeber naive bayes is still leading lets see if logistic regression can beat it "
   ]
  },
  {
   "cell_type": "markdown",
   "metadata": {
    "colab_type": "text",
    "id": "mRtKSG3gWzaz"
   },
   "source": [
    "# Logistic Regression\n",
    "\n",
    "\n",
    "> What is logistic regression ?<br>Logistic Regression measures the relationship between the dependent variable (our label, what we want to predict) and the one or more independent variables (our features), by estimating probabilities using it’s underlying logistic function.\n",
    "\n",
    "\n",
    "Logistic Regression Model is a generalized form of Linear Regression Model. \n",
    "\n",
    "It is a very good Discrimination Tool. Following are the reasons of choosing Logistic Regression:\n",
    "\n",
    "Logistic regression is less prone to over-fitting but it can overfit.It does not require too many computational resources. it is highly interpretable. It doesn’t require input features to be scaled"
   ]
  },
  {
   "cell_type": "code",
   "execution_count": 0,
   "metadata": {
    "colab": {},
    "colab_type": "code",
    "id": "xX-3jjHFW5Ci"
   },
   "outputs": [],
   "source": [
    "from sklearn.linear_model import LogisticRegression\n",
    "p_lg = Pipeline([('vect', CountVectorizer()),\n",
    "('clf', LogisticRegression(max_iter=120000000))])\n",
    "p_lg.fit(x_train,y_train)\n",
    "pred = p_lg.predict(x_test)"
   ]
  },
  {
   "cell_type": "code",
   "execution_count": 0,
   "metadata": {
    "colab": {
     "base_uri": "https://localhost:8080/",
     "height": 34
    },
    "colab_type": "code",
    "id": "BJV9PrN4lgJm",
    "outputId": "253b299a-8c68-4d7f-e031-fa8869ed4642"
   },
   "outputs": [
    {
     "data": {
      "text/plain": [
       "0.2750666666666667"
      ]
     },
     "execution_count": 43,
     "metadata": {
      "tags": []
     },
     "output_type": "execute_result"
    }
   ],
   "source": [
    "accuracy_score(ytest, pred)"
   ]
  },
  {
   "cell_type": "markdown",
   "metadata": {
    "colab_type": "text",
    "id": "b_hzHCQQucY3"
   },
   "source": [
    "So logistic regresion still hasnt crossed over prediciton level which Naive Baye set, Let stop here and visualize the accuracy of all the classfiers we got still now then remeber we will be selecting a model and then deploy it to make our cool predicitor app."
   ]
  },
  {
   "cell_type": "markdown",
   "metadata": {
    "colab_type": "text",
    "id": "NmQS33JWu3f5"
   },
   "source": [
    "# Final Visualization & Model Selection"
   ]
  },
  {
   "cell_type": "markdown",
   "metadata": {
    "colab_type": "text",
    "id": "IS8_z9dovCnA"
   },
   "source": [
    "So now lets plot an graph to compare all the accuracy we got till now and then we will decide the model which we will use to test or rating."
   ]
  },
  {
   "cell_type": "code",
   "execution_count": 0,
   "metadata": {
    "colab": {},
    "colab_type": "code",
    "id": "E_B1tBLSwnC-"
   },
   "outputs": [],
   "source": [
    "accuracies = [nb_tfidf_accuracy,nb_cv_accuracy,rg_accuracy,svc_accuracy,sgd_accuracy,xgb_accuracy,lr_accuracy]"
   ]
  },
  {
   "cell_type": "code",
   "execution_count": 0,
   "metadata": {
    "colab": {
     "base_uri": "https://localhost:8080/",
     "height": 351
    },
    "colab_type": "code",
    "id": "yLJRxrRvw4Dv",
    "outputId": "39c8ad6c-3db9-4754-ae9f-1f13806f422d"
   },
   "outputs": [
    {
     "data": {
      "image/png": "[encoded data removed]",
      "text/plain": [
       "<Figure size 432x288 with 1 Axes>"
      ]
     },
     "metadata": {
      "needs_background": "light",
      "tags": []
     },
     "output_type": "display_data"
    }
   ],
   "source": [
    "fig = plt.figure()\n",
    "ax = fig.add_axes([0,0,1,1])\n",
    "classifiers = ['NB_TFIDF', 'NB_VC', 'Ridge', 'SVC', 'SGD','Xgb','Logistic']\n",
    "prediction = accuracies\n",
    "ax.bar(classifiers,prediction)\n",
    "ax.set_ylabel('Predcition %')\n",
    "ax.set_xlabel('Classifiers')\n",
    "ax.grid(zorder=0)\n",
    "plt.show()"
   ]
  },
  {
   "cell_type": "markdown",
   "metadata": {
    "colab_type": "text",
    "id": "fiHITvH82V6o"
   },
   "source": [
    "So for above bar chart we can see that Naive Bayes with Count vector has the highes accuracy so we will choose that classifier and create the model."
   ]
  },
  {
   "cell_type": "code",
   "execution_count": 0,
   "metadata": {
    "colab": {},
    "colab_type": "code",
    "id": "f6rxIoEZzS-Y"
   },
   "outputs": [],
   "source": [
    "nb =MultinomialNB()\n",
    "final_p = Pipeline([\n",
    "                 ('vect', CountVectorizer()),\n",
    "                 ('clf', nb),])\n",
    "final_p.fit(df['comment'],df['rating'])"
   ]
  },
  {
   "cell_type": "code",
   "execution_count": 0,
   "metadata": {
    "colab": {},
    "colab_type": "code",
    "id": "EyC-uyPk26SO"
   },
   "outputs": [],
   "source": [
    "def predictRating(text):\n",
    "    cleaned_text = clean_text(text)\n",
    "    ls=[cleaned_text]\n",
    "    rating = final_p.predict(ls)\n",
    "    return rating[0]\n",
    "\n",
    "\n",
    "def clean_text(text):\n",
    "\n",
    "  TOKEN_REGEX = re.compile(\"[^A-Za-z ]+\")\n",
    "  text = re.sub(TOKEN_REGEX, '', text)\n",
    "  text = remove_stopwords(text)\n",
    "  return text;"
   ]
  },
  {
   "cell_type": "code",
   "execution_count": 0,
   "metadata": {
    "colab": {
     "base_uri": "https://localhost:8080/",
     "height": 34
    },
    "colab_type": "code",
    "id": "iSG2xqP22GKX",
    "outputId": "cf02c911-d571-42d3-ae57-3fbfbd8c11c1"
   },
   "outputs": [
    {
     "name": "stdout",
     "output_type": "stream",
     "text": [
      "7\n"
     ]
    }
   ],
   "source": [
    "text = \"it is not that great. but i can say average game.\"\n",
    "print(predictRating(text))"
   ]
  },
  {
   "cell_type": "markdown",
   "metadata": {
    "colab_type": "text",
    "id": "hGp65k1Z6ecH"
   },
   "source": [
    "So finally we have come to end of building a model, the accuracy is not the best however for learning environment and considering it to be first time I have ever tried to build something like this I feel it good for now. But please dont hesitate to send in your feedback if on how we can increase our accuracy. My contact information will be avaliable at the bottom."
   ]
  },
  {
   "cell_type": "markdown",
   "metadata": {
    "colab_type": "text",
    "id": "gHeNNgXZ7Jia"
   },
   "source": [
    "Let move on the part where will deploy our model :) and make the cool predicitor application"
   ]
  },
  {
   "cell_type": "markdown",
   "metadata": {
    "colab_type": "text",
    "id": "NGVvdnU3TBKV"
   },
   "source": [
    "# Deployment"
   ]
  },
  {
   "cell_type": "markdown",
   "metadata": {
    "colab_type": "text",
    "id": "HG1iu-5mTEsc"
   },
   "source": [
    "So finally now we have a model ready and as I have said in the starting we will also see how to create a cool web app where we will try to predict rating on a given preview<br>\n",
    "There are many way we can deploy the model and create an web app but today we will learn how to deploy a model in Amazon Web Services.<br>\n",
    "Before we proceed further let me tell you the reason why I choose AWS. AWS provides you with a very robust network and the downtime of AWS is almost 0 hence I choose AWS.<br>\n",
    "\n",
    "Let me now tell you the broad Idea on how we will procced towards building application.<br>\n",
    "\n",
    "1. We will deploy the model in aws which after running some aws script will give us an endpoint.(API endpoint)\n",
    "2. Once we have an endpoint it very simple, we will just need an html and javascript code which will perform POST method call to our API (sending review text to be predicted) and the recieve a response which will have our predeicted rating.\n",
    "\n",
    "\n",
    "To achieve above steps we have will be creating JOBLIB file for our model. For people who dont understand what JOBLIB file is just think it of as a briefcase which contains all the information which we have proccesed till now and which is very easy to carry.\n",
    "Now we will deploy the JOBLIB file in AWS Sagemaker. AWS Sagemaker is amazon wing for DATA processing works. To deploy this JOBLIB file there is a very basic amazon scipt that can be found in AWS document which link will be given below.\n",
    "\n",
    "Once you run that code you model will be deployed and an ENDPOINT will be created where you can send your Review Text and rating will be given out in response.\n",
    "\n",
    "After creating endpoint in sagemaker you can only use the endpoint or API call from sagemaker environment only. But this doest help us in creating our web app hence we need to make a way do that our endpoint can be contacted from outside of AWS environemnt. To do so we have to follow these steps.\n",
    "\n",
    "1. Create a lambda function in AWS and make a connection from the function to our sagemaker endpoint\n",
    "2. Create a API in AWS API Gateway Console which will have capabailities of POST method and will be invoking our lambda function.\n",
    "\n",
    "Once the above steps are done we will have Link ready to which if we send an request with our review text we will get rating as response.\n",
    "\n",
    "I have done the above steps and the code for lambda function is given below.\n",
    "\n",
    "Now we have done most of the heavy work We just will create an HTML Page which will have have an input box and once user Enters text and clicks button we will send the text to our API and will show the response to the user.\n",
    "\n",
    "To Summarize the whole Application it works something similar to the following diagram.\n",
    "\n",
    "<br>\n"
   ]
  },
  {
   "cell_type": "markdown",
   "metadata": {
    "colab_type": "text",
    "id": "0hZ2gHimYoiV"
   },
   "source": [
    "![alt text](https://sameerpvs.uta.cloud/deploy.PNG)"
   ]
  },
  {
   "cell_type": "markdown",
   "metadata": {
    "colab_type": "text",
    "id": "uz1xn0Je7QQG"
   },
   "source": [
    "So are you ready to try out the web app ????\n",
    "<br>\n",
    "\n",
    "I know your are :) Please click [here](http://saikumarreddymokkala.uta.cloud/predict.html) to try out the app. Please remember to give in reviews as normal human :P so that you will get good rating prediction."
   ]
  },
  {
   "cell_type": "markdown",
   "metadata": {
    "colab_type": "text",
    "id": "FHrTL0Mo-AZn"
   },
   "source": [
    "# Contribution "
   ]
  },
  {
   "cell_type": "markdown",
   "metadata": {
    "colab_type": "text",
    "id": "tFWKeism-DKC"
   },
   "source": [
    "If someone asks me about my sole contribution towards this project apart from the refernce I would say that trying to work with different classifiers, checking Navie Bayes with tfidf and with CV, writing function in navie bayes where we were able to get cross validation score for each rating were my main contributions however I would like to say that I have by myself understood the implementation of all the Sklearn function and have use them through out the project and my contirbution part increases siginificantly in the are of creating Webapp. I myself wrote a code in amazon aws lambda function where the function recieves call from API gateway and then it reach out to the endpoint in sage maker takes the response and send back, also the code written as front end for the application is a pure contibution from my end. "
   ]
  },
  {
   "cell_type": "markdown",
   "metadata": {
    "colab_type": "text",
    "id": "hfJjXTZqYv_F"
   },
   "source": [
    "# Challenges"
   ]
  },
  {
   "cell_type": "markdown",
   "metadata": {
    "colab_type": "text",
    "id": "3ZrUo-W48Guf"
   },
   "source": [
    "Coming to challenges there we were so many when I started of this project from understanding how to import data to choosing where to deploy the project. Let me illustarte some of challenges which really took a lot of time and effort from my side to overcome them.\n",
    "\n",
    "\n",
    "> Dont worry! There is Overcoming Challenegs section as well so that you guys can learn from my experience.\n",
    "\n",
    "So the challenges were :- \n",
    "1. Understanding of the dataset. The data set was very huge and from kaggle boardgamegeek review dataset, we obtained data with diffrent files and each having a massive ammount of data.\n",
    "2.  Cleaning the dataset\n",
    "3. Understanding the implementation of different classifiers on the data\n",
    "4. How to visualize the data and select which classfiers to use\n",
    "5. How to deploy the model so that we can use it in real time scenario \n",
    "\n"
   ]
  },
  {
   "cell_type": "markdown",
   "metadata": {
    "colab_type": "text",
    "id": "km8_hh4yY0N2"
   },
   "source": [
    "# Overcoming Challenges"
   ]
  },
  {
   "cell_type": "markdown",
   "metadata": {
    "colab_type": "text",
    "id": "R4DnTvuvAMY0"
   },
   "source": [
    "So now here we are, where i will tell you how I over come the above mentioned challenges.\n",
    "1. Dataset issue: So the data was large but after througly checking I found that there are only two cloumns we will be using at most and if I could somehow just have those columns and remove the rest it will be half work then. Then came the problem of running these heavy function on the dataset beacuse of the usual less ram we have in our systems we I ran intp trouble many time as my notebook keep on closing. So for that google Colab came very handy. I suggest people to use it and it gives you 25 gb of ram which is quite sufficent to run these kind of programs\n",
    "2. Now the dataset has lot NAN values and the coments were very vague I had to clean data set by removing all the punctuations which people leave in review and also drop the rows which didnt had any values that made the dataset more clean and easy to process.\n",
    "3. So thanks to my course work I had an idea on how KNN, Navie Bayes, Emsemble method work but I wanted to learn more classfiers as I could see people using then in other Competetion so I enrolled in a course at Udemy where brief summary of different classfiers and their working were given\n",
    "4. So due to the dataset being so big, I was not sure on what should be visualized and what should be considered important. So, I had to refer many resources from internet.\n",
    "5. SO deploying model was the most tricky part and consumed the most time throught out the project, I was inclined to use PythonAnyWhere as my webserver but dues to flask being some new language which I didnt have any experience on I tried searching for alternative and then while I saw an app deployed in Booklet.io I realized that creating endpoint and using them was the best solution for this scenario and After doing my bit of research and completeing the app it was a great learnig."
   ]
  },
  {
   "cell_type": "markdown",
   "metadata": {
    "colab_type": "text",
    "id": "-lYy10NqY8-L"
   },
   "source": [
    "# Outcome"
   ]
  },
  {
   "cell_type": "markdown",
   "metadata": {
    "colab_type": "text",
    "id": "NXtMt_-48n3M"
   },
   "source": [
    "It been a real roller coaster ride throught out the project. The time I started this project almost a month back I was blank on many topic which I have a very great understanding now. For learning how to use basic python features to implementing a model everything was learnt beacause of this project. I mainly focused on how Naive Bayes work, how to get most of it. Learning sklearn library and understanding how they work on data, playing with the parameters, tuning the model so we get more accuracies these all thing have given me quite an understanding of how real world data is analyzed using the conceptual model we study in our Course work. I would also say that asking us to create a web Application was one of a great way to make us understand the practical use of these models and on the journey of creating application I learnt a lot on how AWS work, how important are API's and how endpoint work. <br>\n",
    "\n",
    "\n",
    "Finally it been a great learning curve and I really enjoyed doing this project."
   ]
  },
  {
   "cell_type": "markdown",
   "metadata": {
    "colab_type": "text",
    "id": "eqKKdLd5GmJt"
   },
   "source": []
  },
  {
   "cell_type": "markdown",
   "metadata": {
    "colab_type": "text",
    "id": "m6T_pDrgY4-p"
   },
   "source": [
    "# Refernces"
   ]
  },
  {
   "cell_type": "markdown",
   "metadata": {
    "colab_type": "text",
    "id": "KK_LgvdWzFWP"
   },
   "source": [
    "https://www.analyticsvidhya.com/blog/2017/09/naive-bayes-explained/\n",
    "https://scikit-learn.org/stable/modules/generated/sklearn.linear_model.Ridge.html\n",
    "https://scikit-learn.org/stable/modules/generated/sklearn.svm.SVC.html\n",
    "https://scikit-learn.org/stable/modules/generated/sklearn.linear_model.SGDClassifier.html\n",
    "https://scikit-learn.org/stable/modules/generated/sklearn.linear_model.LogisticRegression.html\n",
    "https://stackoverflow.com/questions/23357798/how-to-draw-grid-lines-behind-matplotlib-bar-graph\n",
    "https://www.mathsisfun.com/data/bayes-theorem.html\n",
    "https://scikit-learn.org/stable/modules/naive_bayes.html\n",
    "https://towardsdatascience.com/a-complete-exploratory-data-analysis-and-visualization-for-text-data-29fb1b96fb6a\n",
    "https://www.kaggle.com/abhishek/approaching-almost-any-nlp-problem-on-kaggle\n",
    "https://www.geeksforgeeks.org/find-k-frequent-words-data-set-python/\n",
    "https://scikit-learn.org/stable/modules/ensemble.html#stacked-generalization\n",
    "https://matplotlib.org/tutorials/introductory/pyplot.html"
   ]
  }
 ],
 "metadata": {
  "colab": {
   "collapsed_sections": [
    "hfJjXTZqYv_F",
    "km8_hh4yY0N2",
    "-lYy10NqY8-L"
   ],
   "include_colab_link": true,
   "machine_shape": "hm",
   "name": "final_project.ipynb",
   "provenance": [],
   "toc_visible": true
  },
  "kernelspec": {
   "display_name": "Python 3",
   "language": "python",
   "name": "python3"
  },
  "language_info": {
   "codemirror_mode": {
    "name": "ipython",
    "version": 3
   },
   "file_extension": ".py",
   "mimetype": "text/x-python",
   "name": "python",
   "nbconvert_exporter": "python",
   "pygments_lexer": "ipython3",
   "version": "3.8.3"
  }
 },
 "nbformat": 4,
 "nbformat_minor": 1
}
